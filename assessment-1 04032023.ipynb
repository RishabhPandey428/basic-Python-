{
 "cells": [
  {
   "cell_type": "code",
   "execution_count": 7,
   "id": "f222c870",
   "metadata": {},
   "outputs": [
    {
     "name": "stdout",
     "output_type": "stream",
     "text": [
      "Hello world\n"
     ]
    }
   ],
   "source": [
    "#Python Program to Print Hello world!\n",
    "str1=\"Hello\"\n",
    "str2=\" world\"\n",
    "z=str1+str2\n",
    "print(z)\n"
   ]
  },
  {
   "cell_type": "code",
   "execution_count": 8,
   "id": "68dec91a",
   "metadata": {},
   "outputs": [
    {
     "name": "stdout",
     "output_type": "stream",
     "text": [
      "100\n"
     ]
    }
   ],
   "source": [
    "#Python Program to Add Two Numbers\n",
    "num1=30\n",
    "num2=70\n",
    "x=num1+num2\n",
    "print(x)"
   ]
  },
  {
   "cell_type": "code",
   "execution_count": 9,
   "id": "a44d82a3",
   "metadata": {},
   "outputs": [],
   "source": [
    "#Add Two Numbers With User Input. Hint: Use input function to take the user input. \n",
    "#Search about <input function in python on google>. Also user input is always string, \n",
    "#you need to convert input to integer or float respectively.\n",
    "unable to answer "
   ]
  },
  {
   "cell_type": "code",
   "execution_count": 11,
   "id": "a9887049",
   "metadata": {},
   "outputs": [
    {
     "name": "stdout",
     "output_type": "stream",
     "text": [
      "2.23606797749979\n"
     ]
    }
   ],
   "source": [
    "#Program to Find the Square Root of user input number\n",
    "A=5\n",
    "print(A**(.5))"
   ]
  },
  {
   "cell_type": "code",
   "execution_count": 19,
   "id": "86a2d6ca",
   "metadata": {},
   "outputs": [
    {
     "name": "stdout",
     "output_type": "stream",
     "text": [
      "0.0\n"
     ]
    }
   ],
   "source": [
    "#Program to Calculate the Area of a Triangle. User input: 3 sides of triangle \n",
    "a=10\n",
    "b=20\n",
    "c=30\n",
    "#Find semi perimeter of the triangle i.e., s=(a+b+c)/2\n",
    "s=(a+b+c)/2\n",
    "#area of triangle = (s*(s-a)*(s-b)*(s-c)) ** 0.5\n",
    "triangle=(s*(s-a)*(s-b)*(s-c))**0.5\n",
    "print(triangle)"
   ]
  },
  {
   "cell_type": "code",
   "execution_count": 21,
   "id": "d5564d05",
   "metadata": {},
   "outputs": [
    {
     "name": "stdout",
     "output_type": "stream",
     "text": [
      "104.0\n"
     ]
    }
   ],
   "source": [
    "#Python Program to convert temperature in celsius to fahrenheit. User input is celcius and print farenheit value.\n",
    "celsius=40\n",
    "fahrenheit=(celsius*1.8)+32\n",
    "#fahrenheit = (celsius * 1.8) + 32\n",
    "print(fahrenheit)"
   ]
  },
  {
   "cell_type": "code",
   "execution_count": null,
   "id": "7b07d36e",
   "metadata": {},
   "outputs": [],
   "source": []
  }
 ],
 "metadata": {
  "kernelspec": {
   "display_name": "Python 3 (ipykernel)",
   "language": "python",
   "name": "python3"
  },
  "language_info": {
   "codemirror_mode": {
    "name": "ipython",
    "version": 3
   },
   "file_extension": ".py",
   "mimetype": "text/x-python",
   "name": "python",
   "nbconvert_exporter": "python",
   "pygments_lexer": "ipython3",
   "version": "3.10.9"
  }
 },
 "nbformat": 4,
 "nbformat_minor": 5
}
