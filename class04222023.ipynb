{
 "cells": [
  {
   "cell_type": "code",
   "execution_count": 2,
   "id": "33d5b6d2",
   "metadata": {},
   "outputs": [
    {
     "name": "stdout",
     "output_type": "stream",
     "text": [
      "82\n"
     ]
    }
   ],
   "source": [
    "l=[23,42,12,0,2,3]\n",
    "index=0\n",
    "s=0\n",
    "while index<len(l):\n",
    "    s=s+l[index]\n",
    "    index+=1\n",
    "print(s)"
   ]
  },
  {
   "cell_type": "code",
   "execution_count": 6,
   "id": "78fcc962",
   "metadata": {},
   "outputs": [],
   "source": [
    "#for i in range():\n",
    "#while loop: while conndition :\n",
    "#code styatement "
   ]
  },
  {
   "cell_type": "code",
   "execution_count": 3,
   "id": "8052936d",
   "metadata": {},
   "outputs": [
    {
     "ename": "TypeError",
     "evalue": "unsupported operand type(s) for +=: 'int' and 'list'",
     "output_type": "error",
     "traceback": [
      "\u001b[1;31m---------------------------------------------------------------------------\u001b[0m",
      "\u001b[1;31mTypeError\u001b[0m                                 Traceback (most recent call last)",
      "Cell \u001b[1;32mIn[3], line 6\u001b[0m\n\u001b[0;32m      4\u001b[0m \u001b[38;5;28;01mwhile\u001b[39;00m index\u001b[38;5;241m<\u001b[39m\u001b[38;5;28mlen\u001b[39m(l):\n\u001b[0;32m      5\u001b[0m     s\u001b[38;5;241m=\u001b[39m\u001b[38;5;241m+\u001b[39ml[index]\n\u001b[1;32m----> 6\u001b[0m     index\u001b[38;5;241m+\u001b[39m\u001b[38;5;241m=\u001b[39ml\n\u001b[0;32m      7\u001b[0m \u001b[38;5;28mprint\u001b[39m(s)\n",
      "\u001b[1;31mTypeError\u001b[0m: unsupported operand type(s) for +=: 'int' and 'list'"
     ]
    }
   ],
   "source": [
    "l=[23,42,12,0,2,3]\n",
    "index=0\n",
    "s=0\n",
    "while index<len(l):\n",
    "    s=+l[index]\n",
    "    index+=l\n",
    "print(s)"
   ]
  },
  {
   "cell_type": "code",
   "execution_count": 3,
   "id": "deb051c9",
   "metadata": {},
   "outputs": [
    {
     "name": "stdout",
     "output_type": "stream",
     "text": [
      "31\n"
     ]
    }
   ],
   "source": [
    "num=1\n",
    "loop=True\n",
    "while loop:\n",
    "    if num%2==0 and num%3==0 and num%5==0:\n",
    "        loop=False\n",
    "    num+=1\n",
    "print(num)\n",
    "    "
   ]
  },
  {
   "cell_type": "code",
   "execution_count": 4,
   "id": "8961e5ee",
   "metadata": {},
   "outputs": [
    {
     "name": "stdout",
     "output_type": "stream",
     "text": [
      "30\n"
     ]
    }
   ],
   "source": [
    "num=1\n",
    "loop=True\n",
    "while loop:\n",
    "    num+=1\n",
    "    if num%2==0 and num%3==0 and num%5==0:\n",
    "        loop=False\n",
    "print(num)"
   ]
  },
  {
   "cell_type": "code",
   "execution_count": null,
   "id": "fd5cfa4c",
   "metadata": {},
   "outputs": [],
   "source": [
    "#dictonary : \n",
    "#Syntax:{key1:value1,key2:value2...} \n"
   ]
  },
  {
   "cell_type": "code",
   "execution_count": null,
   "id": "4fbc22f2",
   "metadata": {},
   "outputs": [],
   "source": [
    "my_dict={1:'abc',2:'xyx'}"
   ]
  },
  {
   "cell_type": "code",
   "execution_count": null,
   "id": "cf2aabc3",
   "metadata": {},
   "outputs": [],
   "source": [
    "type(my_dict)"
   ]
  },
  {
   "cell_type": "code",
   "execution_count": null,
   "id": "e39ef27a",
   "metadata": {},
   "outputs": [],
   "source": [
    "s=\"abdcjujcbg\"\n",
    "\n",
    "d={}\n",
    "for char in s:\n",
    "    if char in d:\n",
    "        d[char]=d[char]+1\n",
    "    else:\n",
    "        d[char]=1\n",
    "print(d)"
   ]
  },
  {
   "cell_type": "code",
   "execution_count": null,
   "id": "79618344",
   "metadata": {},
   "outputs": [],
   "source": []
  }
 ],
 "metadata": {
  "kernelspec": {
   "display_name": "Python 3 (ipykernel)",
   "language": "python",
   "name": "python3"
  },
  "language_info": {
   "codemirror_mode": {
    "name": "ipython",
    "version": 3
   },
   "file_extension": ".py",
   "mimetype": "text/x-python",
   "name": "python",
   "nbconvert_exporter": "python",
   "pygments_lexer": "ipython3",
   "version": "3.10.9"
  }
 },
 "nbformat": 4,
 "nbformat_minor": 5
}
