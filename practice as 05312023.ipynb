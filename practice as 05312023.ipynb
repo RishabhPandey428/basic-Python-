{
 "cells": [
  {
   "cell_type": "code",
   "execution_count": 12,
   "id": "c2edd0ca",
   "metadata": {},
   "outputs": [
    {
     "name": "stdout",
     "output_type": "stream",
     "text": [
      "cl: (2+3j)\n",
      "<class 'complex'>\n"
     ]
    }
   ],
   "source": [
    "#complex number : x+iy\n",
    "cl=2+3j\n",
    "print(\"cl:\",cl)\n",
    "print(type(cl))"
   ]
  },
  {
   "cell_type": "code",
   "execution_count": 13,
   "id": "dd17d555",
   "metadata": {},
   "outputs": [
    {
     "name": "stdout",
     "output_type": "stream",
     "text": [
      "(4+8j)\n"
     ]
    }
   ],
   "source": [
    "cl1=4+8j\n",
    "print(cl1)"
   ]
  },
  {
   "cell_type": "code",
   "execution_count": 16,
   "id": "cedc374f",
   "metadata": {},
   "outputs": [
    {
     "name": "stdout",
     "output_type": "stream",
     "text": [
      "<class 'complex'>\n"
     ]
    }
   ],
   "source": [
    "print(type(cl1))"
   ]
  },
  {
   "cell_type": "code",
   "execution_count": 17,
   "id": "126fd913",
   "metadata": {},
   "outputs": [
    {
     "name": "stdout",
     "output_type": "stream",
     "text": [
      "cl1 (4+8j)\n"
     ]
    }
   ],
   "source": [
    "print(\"cl1\",cl1)"
   ]
  },
  {
   "cell_type": "code",
   "execution_count": 18,
   "id": "8eac41d5",
   "metadata": {},
   "outputs": [],
   "source": [
    "#add, mul, sub, div\n",
    "\n",
    "a=50\n",
    "b=30\n",
    "c=56\n",
    "d=30"
   ]
  },
  {
   "cell_type": "code",
   "execution_count": 19,
   "id": "26f2c27c",
   "metadata": {},
   "outputs": [
    {
     "name": "stdout",
     "output_type": "stream",
     "text": [
      "80\n"
     ]
    }
   ],
   "source": [
    "add=a+b\n",
    "print(add)"
   ]
  },
  {
   "cell_type": "code",
   "execution_count": 25,
   "id": "44dfed2a",
   "metadata": {},
   "outputs": [
    {
     "name": "stdout",
     "output_type": "stream",
     "text": [
      "20\n"
     ]
    }
   ],
   "source": [
    "s=a-b\n",
    "print(s)"
   ]
  },
  {
   "cell_type": "code",
   "execution_count": 27,
   "id": "afffc6c1",
   "metadata": {},
   "outputs": [
    {
     "name": "stdout",
     "output_type": "stream",
     "text": [
      "1.6666666666666667\n"
     ]
    }
   ],
   "source": [
    "div=a/b\n",
    "print(div)"
   ]
  },
  {
   "cell_type": "code",
   "execution_count": 29,
   "id": "5d55c191",
   "metadata": {},
   "outputs": [
    {
     "name": "stdout",
     "output_type": "stream",
     "text": [
      "1500\n"
     ]
    }
   ],
   "source": [
    "mul=a*b\n",
    "print(mul)"
   ]
  },
  {
   "cell_type": "code",
   "execution_count": 34,
   "id": "e7cc849a",
   "metadata": {},
   "outputs": [
    {
     "name": "stdout",
     "output_type": "stream",
     "text": [
      "i love rishabh aliya love rishabh\n"
     ]
    }
   ],
   "source": [
    "str=\"i love rishabh\"\n",
    "str1=\" aliya love rishabh\"\n",
    "z=str+str1\n",
    "print(z)"
   ]
  },
  {
   "cell_type": "code",
   "execution_count": 35,
   "id": "aea08643",
   "metadata": {},
   "outputs": [
    {
     "data": {
      "text/plain": [
       "'i love rishabh'"
      ]
     },
     "execution_count": 35,
     "metadata": {},
     "output_type": "execute_result"
    }
   ],
   "source": [
    "str[0:]"
   ]
  },
  {
   "cell_type": "code",
   "execution_count": 37,
   "id": "1e9d3dff",
   "metadata": {},
   "outputs": [
    {
     "data": {
      "text/plain": [
       "'e rishabh'"
      ]
     },
     "execution_count": 37,
     "metadata": {},
     "output_type": "execute_result"
    }
   ],
   "source": [
    "str[5:]"
   ]
  },
  {
   "cell_type": "code",
   "execution_count": 38,
   "id": "eb8274ef",
   "metadata": {},
   "outputs": [
    {
     "data": {
      "text/plain": [
       "' '"
      ]
     },
     "execution_count": 38,
     "metadata": {},
     "output_type": "execute_result"
    }
   ],
   "source": [
    "str[1:3:6]"
   ]
  },
  {
   "cell_type": "code",
   "execution_count": 39,
   "id": "610919b8",
   "metadata": {},
   "outputs": [
    {
     "data": {
      "text/plain": [
       "'i love rishabhi love rishabhi love rishabh'"
      ]
     },
     "execution_count": 39,
     "metadata": {},
     "output_type": "execute_result"
    }
   ],
   "source": [
    "str*3"
   ]
  },
  {
   "cell_type": "code",
   "execution_count": 40,
   "id": "891df715",
   "metadata": {},
   "outputs": [
    {
     "data": {
      "text/plain": [
       "'i love rishabh aliya love rishabhi love rishabh aliya love rishabhi love rishabh aliya love rishabhi love rishabh aliya love rishabhi love rishabh aliya love rishabh'"
      ]
     },
     "execution_count": 40,
     "metadata": {},
     "output_type": "execute_result"
    }
   ],
   "source": [
    "z*5"
   ]
  },
  {
   "cell_type": "code",
   "execution_count": 42,
   "id": "0bf8f3e1",
   "metadata": {},
   "outputs": [],
   "source": [
    "#slicing \n",
    "str3=\"i love my mom\"\n",
    "x=str3"
   ]
  },
  {
   "cell_type": "code",
   "execution_count": 46,
   "id": "08380446",
   "metadata": {},
   "outputs": [
    {
     "name": "stdout",
     "output_type": "stream",
     "text": [
      "i love/nmom\n"
     ]
    }
   ],
   "source": [
    "print(\"i love/nmom\")"
   ]
  },
  {
   "cell_type": "code",
   "execution_count": 47,
   "id": "d1bb28e6",
   "metadata": {},
   "outputs": [],
   "source": [
    "x=\"whats my name \""
   ]
  },
  {
   "cell_type": "code",
   "execution_count": 48,
   "id": "b5f22312",
   "metadata": {},
   "outputs": [
    {
     "name": "stdout",
     "output_type": "stream",
     "text": [
      "whats my name \n"
     ]
    }
   ],
   "source": [
    "print(x)"
   ]
  },
  {
   "cell_type": "code",
   "execution_count": 49,
   "id": "16b37ab4",
   "metadata": {},
   "outputs": [
    {
     "name": "stdout",
     "output_type": "stream",
     "text": [
      "whats\n",
      "my name\n"
     ]
    }
   ],
   "source": [
    "print(\"whats\\nmy name\")# to down the case "
   ]
  },
  {
   "cell_type": "code",
   "execution_count": 50,
   "id": "655ec10c",
   "metadata": {},
   "outputs": [
    {
     "name": "stdout",
     "output_type": "stream",
     "text": [
      "whats\tmy name\n"
     ]
    }
   ],
   "source": [
    "print('whats\\tmy name')# to incares my space "
   ]
  },
  {
   "cell_type": "code",
   "execution_count": 51,
   "id": "6c3d1488",
   "metadata": {},
   "outputs": [
    {
     "data": {
      "text/plain": [
       "'WHATS MY NAME '"
      ]
     },
     "execution_count": 51,
     "metadata": {},
     "output_type": "execute_result"
    }
   ],
   "source": [
    "x.upper()"
   ]
  },
  {
   "cell_type": "code",
   "execution_count": 52,
   "id": "67e58934",
   "metadata": {},
   "outputs": [
    {
     "data": {
      "text/plain": [
       "'whats my name '"
      ]
     },
     "execution_count": 52,
     "metadata": {},
     "output_type": "execute_result"
    }
   ],
   "source": [
    "x.lower()"
   ]
  },
  {
   "cell_type": "code",
   "execution_count": 53,
   "id": "3c1f504e",
   "metadata": {},
   "outputs": [
    {
     "data": {
      "text/plain": [
       "['whats', 'my', 'name']"
      ]
     },
     "execution_count": 53,
     "metadata": {},
     "output_type": "execute_result"
    }
   ],
   "source": [
    "x.split()"
   ]
  },
  {
   "cell_type": "code",
   "execution_count": 58,
   "id": "01c82105",
   "metadata": {},
   "outputs": [
    {
     "data": {
      "text/plain": [
       "['whats', 'my', 'name']"
      ]
     },
     "execution_count": 58,
     "metadata": {},
     "output_type": "execute_result"
    }
   ],
   "source": [
    "x.split()"
   ]
  },
  {
   "cell_type": "code",
   "execution_count": null,
   "id": "27e3ca7d",
   "metadata": {},
   "outputs": [],
   "source": []
  }
 ],
 "metadata": {
  "kernelspec": {
   "display_name": "Python 3 (ipykernel)",
   "language": "python",
   "name": "python3"
  },
  "language_info": {
   "codemirror_mode": {
    "name": "ipython",
    "version": 3
   },
   "file_extension": ".py",
   "mimetype": "text/x-python",
   "name": "python",
   "nbconvert_exporter": "python",
   "pygments_lexer": "ipython3",
   "version": "3.10.9"
  }
 },
 "nbformat": 4,
 "nbformat_minor": 5
}
