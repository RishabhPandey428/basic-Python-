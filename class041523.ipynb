{
 "cells": [
  {
   "cell_type": "code",
   "execution_count": 1,
   "id": "301e7fe9",
   "metadata": {},
   "outputs": [
    {
     "name": "stdout",
     "output_type": "stream",
     "text": [
      "['bhupi', 'rishabh', 'vivek']\n"
     ]
    }
   ],
   "source": [
    "#looping statement \n",
    "l=['bhupi','rishabh','vivek']\n",
    "print(l)"
   ]
  },
  {
   "cell_type": "code",
   "execution_count": null,
   "id": "f8f48872",
   "metadata": {},
   "outputs": [],
   "source": [
    "#for loop\n",
    "#syntax for element in range():\n"
   ]
  },
  {
   "cell_type": "code",
   "execution_count": 2,
   "id": "58046bd3",
   "metadata": {},
   "outputs": [],
   "source": [
    "ele=\"aabcdef\""
   ]
  },
  {
   "cell_type": "code",
   "execution_count": 8,
   "id": "1fb340f5",
   "metadata": {},
   "outputs": [
    {
     "name": "stdout",
     "output_type": "stream",
     "text": [
      "a\n",
      "a\n",
      "b\n",
      "c\n",
      "d\n",
      "e\n",
      "f\n"
     ]
    }
   ],
   "source": [
    "for i in ele:\n",
    "    print(i)"
   ]
  },
  {
   "cell_type": "code",
   "execution_count": 4,
   "id": "8374d977",
   "metadata": {},
   "outputs": [
    {
     "data": {
      "text/plain": [
       "'e'"
      ]
     },
     "execution_count": 4,
     "metadata": {},
     "output_type": "execute_result"
    }
   ],
   "source": [
    "ele[5]"
   ]
  },
  {
   "cell_type": "code",
   "execution_count": 5,
   "id": "a845067d",
   "metadata": {},
   "outputs": [
    {
     "name": "stdout",
     "output_type": "stream",
     "text": [
      "bhupi\n",
      "rishabh\n",
      "vivek\n"
     ]
    }
   ],
   "source": [
    "for i in l:\n",
    "    print(i)"
   ]
  },
  {
   "cell_type": "code",
   "execution_count": 9,
   "id": "333b5976",
   "metadata": {},
   "outputs": [],
   "source": [
    "# range funaction "
   ]
  },
  {
   "cell_type": "code",
   "execution_count": 11,
   "id": "6149ddac",
   "metadata": {},
   "outputs": [
    {
     "data": {
      "text/plain": [
       "range(0, 5)"
      ]
     },
     "execution_count": 11,
     "metadata": {},
     "output_type": "execute_result"
    }
   ],
   "source": [
    "range(5)"
   ]
  },
  {
   "cell_type": "code",
   "execution_count": 12,
   "id": "c7dd264d",
   "metadata": {},
   "outputs": [
    {
     "name": "stdout",
     "output_type": "stream",
     "text": [
      "0\n",
      "1\n",
      "2\n",
      "3\n",
      "4\n"
     ]
    }
   ],
   "source": [
    "for i in range (5):\n",
    "    print(i)"
   ]
  },
  {
   "cell_type": "code",
   "execution_count": 20,
   "id": "78a727d2",
   "metadata": {},
   "outputs": [
    {
     "name": "stdout",
     "output_type": "stream",
     "text": [
      "1\n",
      "3\n",
      "5\n",
      "7\n",
      "9\n"
     ]
    }
   ],
   "source": [
    "\n",
    "for i in range(1,10,2):\n",
    "    print(i)"
   ]
  },
  {
   "cell_type": "code",
   "execution_count": 23,
   "id": "17e560f0",
   "metadata": {},
   "outputs": [
    {
     "name": "stdout",
     "output_type": "stream",
     "text": [
      "bhupi\n",
      "rishabh\n",
      "english\n"
     ]
    }
   ],
   "source": [
    "names=['bhupi','rishabh','english']\n",
    "for index in range(0,3):\n",
    "    print(names[index])"
   ]
  },
  {
   "cell_type": "code",
   "execution_count": 25,
   "id": "df59bc48",
   "metadata": {},
   "outputs": [
    {
     "name": "stdout",
     "output_type": "stream",
     "text": [
      "bhupi\n",
      "rishabh\n",
      "english\n",
      "eco\n",
      "sst\n"
     ]
    }
   ],
   "source": [
    "# if we use the len we no need to give the hard code for the last.\n",
    "names=['bhupi','rishabh','english','eco','sst']\n",
    "for index in range(0,len(names)):\n",
    "    print(names[index])"
   ]
  },
  {
   "cell_type": "code",
   "execution_count": 29,
   "id": "af79759b",
   "metadata": {},
   "outputs": [
    {
     "name": "stdout",
     "output_type": "stream",
     "text": [
      "sum is: 48\n"
     ]
    }
   ],
   "source": [
    "l=[1,2,34,1]\n",
    "s=0\n",
    "for item in l:\n",
    "    s=s+item\n",
    "print(\"sum is:\",s)"
   ]
  },
  {
   "cell_type": "code",
   "execution_count": 30,
   "id": "cf5ce35c",
   "metadata": {},
   "outputs": [
    {
     "name": "stdout",
     "output_type": "stream",
     "text": [
      "sum is: 78\n"
     ]
    }
   ],
   "source": [
    "l=[1,2,34,1]\n",
    "s=40\n",
    "for item in l:\n",
    "    s=s+item\n",
    "print(\"sum is:\",s)"
   ]
  },
  {
   "cell_type": "code",
   "execution_count": 32,
   "id": "4b9b08fb",
   "metadata": {},
   "outputs": [
    {
     "name": "stdout",
     "output_type": "stream",
     "text": [
      "sum is: 78\n"
     ]
    }
   ],
   "source": [
    "l=[1,2,34,1]\n",
    "s=40\n",
    "for panda in l:\n",
    "    s=s+panda\n",
    "print(\"sum is:\",s)"
   ]
  },
  {
   "cell_type": "code",
   "execution_count": 33,
   "id": "5f6c0f46",
   "metadata": {},
   "outputs": [
    {
     "name": "stdout",
     "output_type": "stream",
     "text": [
      "sum is: 78\n"
     ]
    }
   ],
   "source": [
    "\n",
    "\n",
    "l=[1,2,34,1]\n",
    "s=40\n",
    "for item in l:\n",
    "    s+=item #( we have use the + =)\n",
    "print(\"sum is:\",s)\n"
   ]
  },
  {
   "cell_type": "code",
   "execution_count": 36,
   "id": "06097f5b",
   "metadata": {},
   "outputs": [
    {
     "name": "stdout",
     "output_type": "stream",
     "text": [
      "rishabh\n"
     ]
    }
   ],
   "source": [
    "#condinal statement \n",
    "# if name ==( compasision)\"bhupi\":\n",
    "name=['bhupi','rishabh','vivek']\n",
    "for i in names:\n",
    "    if i=='rishabh':\n",
    "        print(i)\n",
    "\n"
   ]
  },
  {
   "cell_type": "code",
   "execution_count": 48,
   "id": "2ec2cb02",
   "metadata": {},
   "outputs": [
    {
     "name": "stdout",
     "output_type": "stream",
     "text": [
      "not foud\n",
      "found\n",
      "not foud\n",
      "not foud\n",
      "not foud\n"
     ]
    }
   ],
   "source": [
    "#condinal statement \n",
    "# if name ==( compasision)\"bhupi\":\n",
    "name=['bhupi','rishabh','vivek',]\n",
    "for i in names:\n",
    "    if i==\"rishabh\":\n",
    "        print(\"found\")\n",
    "    else:\n",
    "            print(\"not foud\")\n"
   ]
  },
  {
   "cell_type": "code",
   "execution_count": 53,
   "id": "35f93daa",
   "metadata": {},
   "outputs": [
    {
     "name": "stdout",
     "output_type": "stream",
     "text": [
      "23 is odd\n",
      "25 is odd\n",
      "36 is even\n",
      "45 is odd\n",
      "78 is even\n",
      "125 is odd\n",
      "100 is even\n",
      "300 is even\n"
     ]
    }
   ],
   "source": [
    "# when we need to check multiple condition \n",
    "l=[23,25,36,45,78,125,100,300]\n",
    "for num in l:\n",
    "    if num%2==0:\n",
    "        print(num,\"is even\")\n",
    "    elif num%2!=0:\n",
    "        print(num,\"is odd\")"
   ]
  },
  {
   "cell_type": "code",
   "execution_count": 55,
   "id": "fa79a8ca",
   "metadata": {},
   "outputs": [
    {
     "name": "stdout",
     "output_type": "stream",
     "text": [
      "not found\n",
      "not found\n",
      "36 is dev by 3\n",
      "45 is dev by 3\n",
      "78 is dev by 3\n",
      "not found\n",
      "100 is dev by 3\n",
      "300 is dev by 3\n"
     ]
    }
   ],
   "source": [
    "# when we need to check multiple condition \n",
    "l=[23,25,36,45,78,125,100,300]\n",
    "for num in l:\n",
    "    if num%2==0:\n",
    "        print(num,\"is dev by 3\")\n",
    "    elif num%3==0:#if we need to key the 2nd condintion \n",
    "        print(num,\"is dev by 3\")\n",
    "    else:# is the last condition\n",
    "        print(\"not found\")\n",
    "        "
   ]
  },
  {
   "cell_type": "code",
   "execution_count": 56,
   "id": "e8ff93c0",
   "metadata": {},
   "outputs": [
    {
     "name": "stdout",
     "output_type": "stream",
     "text": [
      "23 is odd\n",
      "25 is odd\n",
      "36 is even\n",
      "45 is odd\n",
      "78 is even\n",
      "125 is odd\n",
      "100 is even\n",
      "300 is even\n"
     ]
    }
   ],
   "source": [
    "# when we need to check multiple condition \n",
    "l=[23,25,36,45,78,125,100,300]\n",
    "for num in l:\n",
    "    if num%2==0:\n",
    "        print(num,\"is even\")\n",
    "    elif num%2!=0:\n",
    "        print(num,\"is odd\")"
   ]
  },
  {
   "cell_type": "code",
   "execution_count": null,
   "id": "783eb12e",
   "metadata": {},
   "outputs": [],
   "source": [
    "range[100]\n",
    "#3 is the Prime number : divisable by 1and 3\n",
    "# divisable manes if the remander is zero \n",
    "#24%8==0, 24 is divisible by 8\n"
   ]
  },
  {
   "cell_type": "code",
   "execution_count": 64,
   "id": "0155c07f",
   "metadata": {},
   "outputs": [
    {
     "name": "stdout",
     "output_type": "stream",
     "text": [
      "2 is a prime number\n",
      "3 is a prime number\n",
      "4 is a prime number\n",
      "5 is a prime number\n",
      "6 is a prime number\n",
      "7 is a prime number\n",
      "8 is a prime number\n",
      "9 is a prime number\n",
      "10 is a prime number\n",
      "11 is a prime number\n",
      "12 is a prime number\n",
      "13 is a prime number\n",
      "14 is a prime number\n",
      "15 is a prime number\n",
      "16 is a prime number\n",
      "17 is a prime number\n",
      "18 is a prime number\n",
      "19 is a prime number\n",
      "20 is a prime number\n",
      "21 is a prime number\n",
      "22 is a prime number\n",
      "23 is a prime number\n",
      "24 is a prime number\n",
      "25 is a prime number\n",
      "26 is a prime number\n",
      "27 is a prime number\n",
      "28 is a prime number\n",
      "29 is a prime number\n",
      "30 is a prime number\n",
      "31 is a prime number\n",
      "32 is a prime number\n",
      "33 is a prime number\n",
      "34 is a prime number\n",
      "35 is a prime number\n",
      "36 is a prime number\n",
      "37 is a prime number\n",
      "38 is a prime number\n",
      "39 is a prime number\n",
      "40 is a prime number\n",
      "41 is a prime number\n",
      "42 is a prime number\n",
      "43 is a prime number\n",
      "44 is a prime number\n",
      "45 is a prime number\n",
      "46 is a prime number\n",
      "47 is a prime number\n",
      "48 is a prime number\n",
      "49 is a prime number\n",
      "50 is a prime number\n",
      "51 is a prime number\n",
      "52 is a prime number\n",
      "53 is a prime number\n",
      "54 is a prime number\n",
      "55 is a prime number\n",
      "56 is a prime number\n",
      "57 is a prime number\n",
      "58 is a prime number\n",
      "59 is a prime number\n",
      "60 is a prime number\n",
      "61 is a prime number\n",
      "62 is a prime number\n",
      "63 is a prime number\n",
      "64 is a prime number\n",
      "65 is a prime number\n",
      "66 is a prime number\n",
      "67 is a prime number\n",
      "68 is a prime number\n",
      "69 is a prime number\n",
      "70 is a prime number\n",
      "71 is a prime number\n",
      "72 is a prime number\n",
      "73 is a prime number\n",
      "74 is a prime number\n",
      "75 is a prime number\n",
      "76 is a prime number\n",
      "77 is a prime number\n",
      "78 is a prime number\n",
      "79 is a prime number\n",
      "80 is a prime number\n",
      "81 is a prime number\n",
      "82 is a prime number\n",
      "83 is a prime number\n",
      "84 is a prime number\n",
      "85 is a prime number\n",
      "86 is a prime number\n",
      "87 is a prime number\n",
      "88 is a prime number\n",
      "89 is a prime number\n",
      "90 is a prime number\n",
      "91 is a prime number\n",
      "92 is a prime number\n",
      "93 is a prime number\n",
      "94 is a prime number\n",
      "95 is a prime number\n",
      "96 is a prime number\n",
      "97 is a prime number\n",
      "98 is a prime number\n",
      "99 is a prime number\n"
     ]
    }
   ],
   "source": [
    "# how many prime number are there in betwen 0 and 99.\n",
    "for num in range(2,100):\n",
    "    prime=True\n",
    "    for dev in range(2,num):\n",
    "        if num%dev==0 and div!=1:\n",
    "            prime=False\n",
    "        \n",
    "    if prime==True:\n",
    "            print(num,\"is a prime number\")"
   ]
  },
  {
   "cell_type": "code",
   "execution_count": null,
   "id": "ec28f374",
   "metadata": {},
   "outputs": [],
   "source": []
  }
 ],
 "metadata": {
  "kernelspec": {
   "display_name": "Python 3 (ipykernel)",
   "language": "python",
   "name": "python3"
  },
  "language_info": {
   "codemirror_mode": {
    "name": "ipython",
    "version": 3
   },
   "file_extension": ".py",
   "mimetype": "text/x-python",
   "name": "python",
   "nbconvert_exporter": "python",
   "pygments_lexer": "ipython3",
   "version": "3.10.9"
  }
 },
 "nbformat": 4,
 "nbformat_minor": 5
}
