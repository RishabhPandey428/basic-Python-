{
 "cells": [
  {
   "cell_type": "code",
   "execution_count": 6,
   "id": "803f4205",
   "metadata": {},
   "outputs": [
    {
     "data": {
      "text/plain": [
       "'i love data science'"
      ]
     },
     "execution_count": 6,
     "metadata": {},
     "output_type": "execute_result"
    }
   ],
   "source": [
    "#indaxing use \n",
    "example ='i love data science'\n",
    "example"
   ]
  },
  {
   "cell_type": "code",
   "execution_count": 2,
   "id": "67de3248",
   "metadata": {},
   "outputs": [
    {
     "data": {
      "text/plain": [
       "'i'"
      ]
     },
     "execution_count": 2,
     "metadata": {},
     "output_type": "execute_result"
    }
   ],
   "source": [
    "example[0]"
   ]
  },
  {
   "cell_type": "code",
   "execution_count": 7,
   "id": "78fb0a0f",
   "metadata": {},
   "outputs": [
    {
     "data": {
      "text/plain": [
       "19"
      ]
     },
     "execution_count": 7,
     "metadata": {},
     "output_type": "execute_result"
    }
   ],
   "source": [
    "len(example)"
   ]
  },
  {
   "cell_type": "code",
   "execution_count": 8,
   "id": "121fc0cc",
   "metadata": {},
   "outputs": [
    {
     "data": {
      "text/plain": [
       "'e'"
      ]
     },
     "execution_count": 8,
     "metadata": {},
     "output_type": "execute_result"
    }
   ],
   "source": [
    "example[18]"
   ]
  },
  {
   "cell_type": "code",
   "execution_count": 9,
   "id": "bf306ab6",
   "metadata": {},
   "outputs": [
    {
     "data": {
      "text/plain": [
       "'i lov'"
      ]
     },
     "execution_count": 9,
     "metadata": {},
     "output_type": "execute_result"
    }
   ],
   "source": [
    "example[0:5]# it always use - 1 to ."
   ]
  },
  {
   "cell_type": "code",
   "execution_count": 11,
   "id": "e2ae7ed3",
   "metadata": {},
   "outputs": [
    {
     "data": {
      "text/plain": [
       "'i lov'"
      ]
     },
     "execution_count": 11,
     "metadata": {},
     "output_type": "execute_result"
    }
   ],
   "source": [
    "example[0:5]"
   ]
  },
  {
   "cell_type": "code",
   "execution_count": 12,
   "id": "11d2f12e",
   "metadata": {},
   "outputs": [
    {
     "data": {
      "text/plain": [
       "'ilv aasine'"
      ]
     },
     "execution_count": 12,
     "metadata": {},
     "output_type": "execute_result"
    }
   ],
   "source": [
    "#syntax of idexing \n",
    "#list [start:end:setps] \n",
    "example[::2]"
   ]
  },
  {
   "cell_type": "code",
   "execution_count": 13,
   "id": "95ebdfe1",
   "metadata": {},
   "outputs": [
    {
     "data": {
      "text/plain": [
       "'i'"
      ]
     },
     "execution_count": 13,
     "metadata": {},
     "output_type": "execute_result"
    }
   ],
   "source": [
    "example[0]"
   ]
  },
  {
   "cell_type": "code",
   "execution_count": 15,
   "id": "5c873aee",
   "metadata": {},
   "outputs": [
    {
     "data": {
      "text/plain": [
       "'i love data'"
      ]
     },
     "execution_count": 15,
     "metadata": {},
     "output_type": "execute_result"
    }
   ],
   "source": [
    "example[0:11]"
   ]
  },
  {
   "cell_type": "code",
   "execution_count": 17,
   "id": "cead4539",
   "metadata": {},
   "outputs": [
    {
     "data": {
      "text/plain": [
       "'ilv aasine'"
      ]
     },
     "execution_count": 17,
     "metadata": {},
     "output_type": "execute_result"
    }
   ],
   "source": [
    "example[0:19:2]"
   ]
  },
  {
   "cell_type": "code",
   "execution_count": 18,
   "id": "af0df416",
   "metadata": {},
   "outputs": [
    {
     "data": {
      "text/plain": [
       "'ecneics atad evol i'"
      ]
     },
     "execution_count": 18,
     "metadata": {},
     "output_type": "execute_result"
    }
   ],
   "source": [
    "example[::-1]"
   ]
  },
  {
   "cell_type": "code",
   "execution_count": 32,
   "id": "1bd50663",
   "metadata": {},
   "outputs": [
    {
     "data": {
      "text/plain": [
       "' atad evol i'"
      ]
     },
     "execution_count": 32,
     "metadata": {},
     "output_type": "execute_result"
    }
   ],
   "source": [
    "example[11::-1]"
   ]
  },
  {
   "cell_type": "code",
   "execution_count": 34,
   "id": "bbfd157a",
   "metadata": {},
   "outputs": [
    {
     "data": {
      "text/plain": [
       "True"
      ]
     },
     "execution_count": 34,
     "metadata": {},
     "output_type": "execute_result"
    }
   ],
   "source": [
    "#comparision opertor \n",
    "name1=\"bhupi\"\n",
    "name2=\"bhupi\"\n",
    "name1==name2"
   ]
  },
  {
   "cell_type": "raw",
   "id": "cbfc6818",
   "metadata": {},
   "source": [
    "#Relational opertors\n",
    "nun1=2\n",
    "num3=4\n",
    "num1>num3"
   ]
  },
  {
   "cell_type": "code",
   "execution_count": 36,
   "id": "1508a1bb",
   "metadata": {},
   "outputs": [
    {
     "data": {
      "text/plain": [
       "False"
      ]
     },
     "execution_count": 36,
     "metadata": {},
     "output_type": "execute_result"
    }
   ],
   "source": [
    "#Relational opertors(<,>,<=,>=,==,!=)\n",
    "num1=2\n",
    "num3=4\n",
    "num1>num3"
   ]
  },
  {
   "cell_type": "code",
   "execution_count": 38,
   "id": "aee2f17f",
   "metadata": {},
   "outputs": [
    {
     "name": "stdout",
     "output_type": "stream",
     "text": [
      "True\n"
     ]
    }
   ],
   "source": [
    "num1=2\n",
    "num2=2\n",
    "print(num1>=num2)"
   ]
  },
  {
   "cell_type": "code",
   "execution_count": 40,
   "id": "5b1a187f",
   "metadata": {},
   "outputs": [
    {
     "name": "stdout",
     "output_type": "stream",
     "text": [
      "False\n"
     ]
    }
   ],
   "source": [
    "num1=34\n",
    "num2=34\n",
    "print(num1!=num2)"
   ]
  },
  {
   "cell_type": "code",
   "execution_count": 42,
   "id": "c5a2f80d",
   "metadata": {},
   "outputs": [
    {
     "name": "stdout",
     "output_type": "stream",
     "text": [
      "True\n"
     ]
    }
   ],
   "source": [
    "#strings \n",
    "str1=\"a\"\n",
    "str2=\"A\"\n",
    "print(str1!=str2)"
   ]
  },
  {
   "cell_type": "code",
   "execution_count": 43,
   "id": "52b84c83",
   "metadata": {},
   "outputs": [
    {
     "name": "stdout",
     "output_type": "stream",
     "text": [
      "True\n"
     ]
    }
   ],
   "source": [
    "str1=\"a\"\n",
    "str2=\"A\"\n",
    "print(str1>str2)"
   ]
  },
  {
   "cell_type": "code",
   "execution_count": 44,
   "id": "9192841f",
   "metadata": {},
   "outputs": [
    {
     "name": "stdout",
     "output_type": "stream",
     "text": [
      "True\n"
     ]
    }
   ],
   "source": [
    "str1=\"a\"\n",
    "str2=\"A\"\n",
    "print(str1>=str2)"
   ]
  },
  {
   "cell_type": "code",
   "execution_count": 47,
   "id": "397fbf4b",
   "metadata": {},
   "outputs": [
    {
     "ename": "SyntaxError",
     "evalue": "cannot assign to True (571475065.py, line 1)",
     "output_type": "error",
     "traceback": [
      "\u001b[1;36m  Cell \u001b[1;32mIn[47], line 1\u001b[1;36m\u001b[0m\n\u001b[1;33m    True=false\u001b[0m\n\u001b[1;37m    ^\u001b[0m\n\u001b[1;31mSyntaxError\u001b[0m\u001b[1;31m:\u001b[0m cannot assign to True\n"
     ]
    }
   ],
   "source": [
    "# we cannot assign any keywords to as varibale name (if its trun green )\n",
    "True=false\n",
    "false"
   ]
  },
  {
   "cell_type": "code",
   "execution_count": null,
   "id": "d31bf250",
   "metadata": {},
   "outputs": [],
   "source": []
  }
 ],
 "metadata": {
  "kernelspec": {
   "display_name": "Python 3 (ipykernel)",
   "language": "python",
   "name": "python3"
  },
  "language_info": {
   "codemirror_mode": {
    "name": "ipython",
    "version": 3
   },
   "file_extension": ".py",
   "mimetype": "text/x-python",
   "name": "python",
   "nbconvert_exporter": "python",
   "pygments_lexer": "ipython3",
   "version": "3.10.9"
  }
 },
 "nbformat": 4,
 "nbformat_minor": 5
}
