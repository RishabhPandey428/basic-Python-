{
 "cells": [
  {
   "cell_type": "code",
   "execution_count": 4,
   "id": "7b21fe78",
   "metadata": {},
   "outputs": [
    {
     "name": "stdout",
     "output_type": "stream",
     "text": [
      "[1, 2, 3, 4, 5]\n"
     ]
    }
   ],
   "source": [
    "#syntax of list []\n",
    "l=[1,2,3,4,5]\n",
    "print(l)\n"
   ]
  },
  {
   "cell_type": "code",
   "execution_count": 10,
   "id": "8dbe758d",
   "metadata": {},
   "outputs": [
    {
     "name": "stdout",
     "output_type": "stream",
     "text": [
      "[1, 2, 3, 4, 5]\n"
     ]
    }
   ],
   "source": [
    "li_1=[1,2,3,4,5]\n",
    "print(li_1)"
   ]
  },
  {
   "cell_type": "code",
   "execution_count": 11,
   "id": "d2de8388",
   "metadata": {},
   "outputs": [
    {
     "data": {
      "text/plain": [
       "1"
      ]
     },
     "execution_count": 11,
     "metadata": {},
     "output_type": "execute_result"
    }
   ],
   "source": [
    "l[0]"
   ]
  },
  {
   "cell_type": "code",
   "execution_count": 12,
   "id": "f4f15371",
   "metadata": {},
   "outputs": [
    {
     "data": {
      "text/plain": [
       "[1, 2]"
      ]
     },
     "execution_count": 12,
     "metadata": {},
     "output_type": "execute_result"
    }
   ],
   "source": [
    "#syntax of indexing variable [start: end:]\n",
    "l[0:2]"
   ]
  },
  {
   "cell_type": "code",
   "execution_count": 22,
   "id": "f5ca37d4",
   "metadata": {},
   "outputs": [],
   "source": [
    "#appending funaction \n",
    "new=[\"london\",\"delhi\"]"
   ]
  },
  {
   "cell_type": "code",
   "execution_count": 25,
   "id": "74583bb0",
   "metadata": {},
   "outputs": [],
   "source": [
    "new.append(\"GGN\")"
   ]
  },
  {
   "cell_type": "code",
   "execution_count": 24,
   "id": "3e9feea6",
   "metadata": {},
   "outputs": [],
   "source": [
    "new.append([\"newyork\",\"mumbai\"])"
   ]
  },
  {
   "cell_type": "code",
   "execution_count": 23,
   "id": "0c5cd7b9",
   "metadata": {},
   "outputs": [
    {
     "data": {
      "text/plain": [
       "['london', 'delhi']"
      ]
     },
     "execution_count": 23,
     "metadata": {},
     "output_type": "execute_result"
    }
   ],
   "source": [
    "new"
   ]
  },
  {
   "cell_type": "code",
   "execution_count": 27,
   "id": "10309440",
   "metadata": {},
   "outputs": [],
   "source": [
    "example=['london','delhi','paris',['kolkata','mumbari']]\n"
   ]
  },
  {
   "cell_type": "code",
   "execution_count": 28,
   "id": "347fc104",
   "metadata": {},
   "outputs": [
    {
     "data": {
      "text/plain": [
       "['kolkata', 'mumbari']"
      ]
     },
     "execution_count": 28,
     "metadata": {},
     "output_type": "execute_result"
    }
   ],
   "source": [
    "example[3]"
   ]
  },
  {
   "cell_type": "code",
   "execution_count": 29,
   "id": "20b21ed2",
   "metadata": {},
   "outputs": [
    {
     "data": {
      "text/plain": [
       "'mumbari'"
      ]
     },
     "execution_count": 29,
     "metadata": {},
     "output_type": "execute_result"
    }
   ],
   "source": [
    "example[3][1]"
   ]
  },
  {
   "cell_type": "code",
   "execution_count": 30,
   "id": "20c2abb6",
   "metadata": {},
   "outputs": [],
   "source": [
    "example=[\"london\",\"delhi\",\"paris\",[\"Kolkata\",\"mumbari\"]]"
   ]
  },
  {
   "cell_type": "code",
   "execution_count": 32,
   "id": "a023d280",
   "metadata": {},
   "outputs": [
    {
     "data": {
      "text/plain": [
       "'mumbari'"
      ]
     },
     "execution_count": 32,
     "metadata": {},
     "output_type": "execute_result"
    }
   ],
   "source": [
    "example[3][1]"
   ]
  },
  {
   "cell_type": "code",
   "execution_count": 33,
   "id": "af1c3029",
   "metadata": {},
   "outputs": [],
   "source": [
    "new.append([[\"chen\",\"coim\",\"madu\"],\"hyd\"])"
   ]
  },
  {
   "cell_type": "code",
   "execution_count": 34,
   "id": "1d03e99a",
   "metadata": {},
   "outputs": [
    {
     "data": {
      "text/plain": [
       "[['chen', 'coim', 'madu'], 'hyd']"
      ]
     },
     "execution_count": 34,
     "metadata": {},
     "output_type": "execute_result"
    }
   ],
   "source": [
    "new[4]"
   ]
  },
  {
   "cell_type": "code",
   "execution_count": 35,
   "id": "66dc4309",
   "metadata": {},
   "outputs": [
    {
     "data": {
      "text/plain": [
       "'hyd'"
      ]
     },
     "execution_count": 35,
     "metadata": {},
     "output_type": "execute_result"
    }
   ],
   "source": [
    "new[4][1]"
   ]
  },
  {
   "cell_type": "code",
   "execution_count": 36,
   "id": "e0e02cc7",
   "metadata": {},
   "outputs": [
    {
     "name": "stdout",
     "output_type": "stream",
     "text": [
      "['london', 'delhi', ['newyork', 'mumbai'], 'GGN', [['chen', 'coim', 'madu'], 'hyd']]\n"
     ]
    }
   ],
   "source": [
    "new\n",
    "print(new)"
   ]
  },
  {
   "cell_type": "code",
   "execution_count": 37,
   "id": "30562fa9",
   "metadata": {},
   "outputs": [
    {
     "data": {
      "text/plain": [
       "5"
      ]
     },
     "execution_count": 37,
     "metadata": {},
     "output_type": "execute_result"
    }
   ],
   "source": [
    "len(new)"
   ]
  },
  {
   "cell_type": "code",
   "execution_count": 46,
   "id": "4b72adab",
   "metadata": {},
   "outputs": [],
   "source": [
    "#new example \n",
    "li=[1,2,3,[\"a\",\"b\",\"c\",[\"A\",\"B\",\"C\"]]]"
   ]
  },
  {
   "cell_type": "code",
   "execution_count": 44,
   "id": "1076b0e7",
   "metadata": {},
   "outputs": [
    {
     "data": {
      "text/plain": [
       "['a', 'b', 'c']"
      ]
     },
     "execution_count": 44,
     "metadata": {},
     "output_type": "execute_result"
    }
   ],
   "source": [
    "li[3]"
   ]
  },
  {
   "cell_type": "code",
   "execution_count": 47,
   "id": "cc951329",
   "metadata": {},
   "outputs": [
    {
     "data": {
      "text/plain": [
       "'a'"
      ]
     },
     "execution_count": 47,
     "metadata": {},
     "output_type": "execute_result"
    }
   ],
   "source": [
    "li[3][0]"
   ]
  },
  {
   "cell_type": "code",
   "execution_count": 50,
   "id": "8122ddea",
   "metadata": {},
   "outputs": [
    {
     "data": {
      "text/plain": [
       "['A', 'B', 'C']"
      ]
     },
     "execution_count": 50,
     "metadata": {},
     "output_type": "execute_result"
    }
   ],
   "source": [
    "li[3][3]"
   ]
  },
  {
   "cell_type": "code",
   "execution_count": 51,
   "id": "3fcee3b7",
   "metadata": {},
   "outputs": [
    {
     "data": {
      "text/plain": [
       "'A'"
      ]
     },
     "execution_count": 51,
     "metadata": {},
     "output_type": "execute_result"
    }
   ],
   "source": [
    "li[3][3][0]"
   ]
  },
  {
   "cell_type": "code",
   "execution_count": 52,
   "id": "d626368f",
   "metadata": {},
   "outputs": [],
   "source": [
    "#in built funaction \n",
    "# user define funcation \n"
   ]
  },
  {
   "cell_type": "code",
   "execution_count": 54,
   "id": "d4a7c97c",
   "metadata": {},
   "outputs": [],
   "source": [
    "#instret funaction \n",
    "example.insert(1,\"hyd\")"
   ]
  },
  {
   "cell_type": "code",
   "execution_count": 55,
   "id": "5945613d",
   "metadata": {},
   "outputs": [
    {
     "data": {
      "text/plain": [
       "['london', 'hyd', 'delhi', 'paris', ['Kolkata', 'mumbari']]"
      ]
     },
     "execution_count": 55,
     "metadata": {},
     "output_type": "execute_result"
    }
   ],
   "source": [
    "example"
   ]
  },
  {
   "cell_type": "code",
   "execution_count": 57,
   "id": "68fd42bd",
   "metadata": {},
   "outputs": [],
   "source": [
    "example[4]=\"kolkata\""
   ]
  },
  {
   "cell_type": "code",
   "execution_count": 61,
   "id": "8a179e06",
   "metadata": {},
   "outputs": [
    {
     "data": {
      "text/plain": [
       "['london', 'hyd', 'delhi', 'paris', 'kolkata']"
      ]
     },
     "execution_count": 61,
     "metadata": {},
     "output_type": "execute_result"
    }
   ],
   "source": [
    "example"
   ]
  },
  {
   "cell_type": "code",
   "execution_count": 66,
   "id": "bf0d03dc",
   "metadata": {},
   "outputs": [],
   "source": [
    "#remove function of index funaction \n",
    "ind=example.index(\"kolkata\")"
   ]
  },
  {
   "cell_type": "code",
   "execution_count": 65,
   "id": "f4fc6405",
   "metadata": {},
   "outputs": [
    {
     "name": "stdout",
     "output_type": "stream",
     "text": [
      "4\n"
     ]
    }
   ],
   "source": [
    "print(ind)"
   ]
  },
  {
   "cell_type": "code",
   "execution_count": 67,
   "id": "c4b42957",
   "metadata": {},
   "outputs": [],
   "source": [
    "example[ind]=\"GGN\""
   ]
  },
  {
   "cell_type": "code",
   "execution_count": 69,
   "id": "2c771f22",
   "metadata": {},
   "outputs": [
    {
     "name": "stdout",
     "output_type": "stream",
     "text": [
      "['london', 'hyd', 'delhi', 'paris', 'GGN']\n"
     ]
    }
   ],
   "source": [
    "print(example)"
   ]
  },
  {
   "cell_type": "code",
   "execution_count": 70,
   "id": "db14a6d3",
   "metadata": {},
   "outputs": [
    {
     "data": {
      "text/plain": [
       "['london', 'hyd', 'delhi', 'paris', 'GGN']"
      ]
     },
     "execution_count": 70,
     "metadata": {},
     "output_type": "execute_result"
    }
   ],
   "source": [
    "#remove funaction \n",
    "example"
   ]
  },
  {
   "cell_type": "code",
   "execution_count": 74,
   "id": "226ec70e",
   "metadata": {},
   "outputs": [],
   "source": [
    "example.remove(\"london\")"
   ]
  },
  {
   "cell_type": "code",
   "execution_count": 75,
   "id": "6d727991",
   "metadata": {},
   "outputs": [
    {
     "data": {
      "text/plain": [
       "['hyd', 'delhi', 'paris', 'GGN']"
      ]
     },
     "execution_count": 75,
     "metadata": {},
     "output_type": "execute_result"
    }
   ],
   "source": [
    "example"
   ]
  },
  {
   "cell_type": "code",
   "execution_count": 76,
   "id": "893c2bd9",
   "metadata": {},
   "outputs": [
    {
     "ename": "ValueError",
     "evalue": "list.remove(x): x not in list",
     "output_type": "error",
     "traceback": [
      "\u001b[1;31m---------------------------------------------------------------------------\u001b[0m",
      "\u001b[1;31mValueError\u001b[0m                                Traceback (most recent call last)",
      "Cell \u001b[1;32mIn[76], line 1\u001b[0m\n\u001b[1;32m----> 1\u001b[0m \u001b[43mexample\u001b[49m\u001b[38;5;241;43m.\u001b[39;49m\u001b[43mremove\u001b[49m\u001b[43m(\u001b[49m\u001b[38;5;241;43m0\u001b[39;49m\u001b[43m)\u001b[49m\n",
      "\u001b[1;31mValueError\u001b[0m: list.remove(x): x not in list"
     ]
    }
   ],
   "source": [
    "example.remove(0)# index will not work in the remove funaction "
   ]
  },
  {
   "cell_type": "code",
   "execution_count": 85,
   "id": "f49614fa",
   "metadata": {},
   "outputs": [],
   "source": [
    "l1=[1,2,3,4]\n",
    "l2=[5,6,7,8]"
   ]
  },
  {
   "cell_type": "code",
   "execution_count": 88,
   "id": "7a3247da",
   "metadata": {},
   "outputs": [],
   "source": [
    "l1.append(l2)"
   ]
  },
  {
   "cell_type": "code",
   "execution_count": 91,
   "id": "33036c31",
   "metadata": {},
   "outputs": [],
   "source": [
    "l1.extend(l2)"
   ]
  },
  {
   "cell_type": "code",
   "execution_count": 90,
   "id": "490931fe",
   "metadata": {},
   "outputs": [
    {
     "data": {
      "text/plain": [
       "[1, 2, 3, 4, 12, [5, 6, 7, 8], 5, 6, 7, 8, 5, 6, 7, 8]"
      ]
     },
     "execution_count": 90,
     "metadata": {},
     "output_type": "execute_result"
    }
   ],
   "source": [
    "l1+l2"
   ]
  },
  {
   "cell_type": "code",
   "execution_count": null,
   "id": "3ca225ee",
   "metadata": {},
   "outputs": [],
   "source": []
  }
 ],
 "metadata": {
  "kernelspec": {
   "display_name": "Python 3 (ipykernel)",
   "language": "python",
   "name": "python3"
  },
  "language_info": {
   "codemirror_mode": {
    "name": "ipython",
    "version": 3
   },
   "file_extension": ".py",
   "mimetype": "text/x-python",
   "name": "python",
   "nbconvert_exporter": "python",
   "pygments_lexer": "ipython3",
   "version": "3.10.9"
  }
 },
 "nbformat": 4,
 "nbformat_minor": 5
}
