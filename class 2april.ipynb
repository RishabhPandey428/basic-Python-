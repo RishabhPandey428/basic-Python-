{
 "cells": [
  {
   "cell_type": "code",
   "execution_count": 4,
   "id": "cacaeab0",
   "metadata": {},
   "outputs": [
    {
     "data": {
      "text/plain": [
       "90"
      ]
     },
     "execution_count": 4,
     "metadata": {},
     "output_type": "execute_result"
    }
   ],
   "source": [
    "maths=80\n",
    "science=100\n",
    "english=90\n",
    "maths\n",
    "science\n",
    "english"
   ]
  },
  {
   "cell_type": "code",
   "execution_count": 8,
   "id": "0544257a",
   "metadata": {},
   "outputs": [
    {
     "name": "stdout",
     "output_type": "stream",
     "text": [
      "80\n",
      "100\n",
      "90\n"
     ]
    }
   ],
   "source": [
    "maths=80\n",
    "science=100\n",
    "english=90\n",
    "print(maths)\n",
    "print(science)\n",
    "print(english)"
   ]
  },
  {
   "cell_type": "code",
   "execution_count": 12,
   "id": "b97687bd",
   "metadata": {},
   "outputs": [
    {
     "name": "stdout",
     "output_type": "stream",
     "text": [
      "maths: 80 science: 100 english: 90\n"
     ]
    }
   ],
   "source": [
    "maths=80\n",
    "science=100\n",
    "english=90\n",
    "print(\"maths:\",maths,\"science:\",science,\"english:\",english)"
   ]
  },
  {
   "cell_type": "code",
   "execution_count": 16,
   "id": "f14b5883",
   "metadata": {},
   "outputs": [
    {
     "name": "stdout",
     "output_type": "stream",
     "text": [
      "cl: (2+3j)\n",
      "<class 'complex'>\n"
     ]
    }
   ],
   "source": [
    "#complex number : x+iy\n",
    "cl=2+3j\n",
    "print(\"cl:\",cl)\n",
    "print(type(cl))"
   ]
  },
  {
   "cell_type": "code",
   "execution_count": 17,
   "id": "e334639b",
   "metadata": {},
   "outputs": [
    {
     "name": "stdout",
     "output_type": "stream",
     "text": [
      "30\n"
     ]
    }
   ],
   "source": [
    "#operaters \n",
    "#add two number \n",
    "a=10\n",
    "b=20\n",
    "s=a+b\n",
    "print(s)"
   ]
  },
  {
   "cell_type": "code",
   "execution_count": 19,
   "id": "4d3d9a7e",
   "metadata": {},
   "outputs": [
    {
     "name": "stdout",
     "output_type": "stream",
     "text": [
      "-10\n",
      "<class 'int'>\n"
     ]
    }
   ],
   "source": [
    "#operaters \n",
    "#subtraction \n",
    "a=10\n",
    "b=20\n",
    "sub=a-b\n",
    "print(sub)\n",
    "print(type(sub))"
   ]
  },
  {
   "cell_type": "code",
   "execution_count": 21,
   "id": "9de0fefe",
   "metadata": {},
   "outputs": [
    {
     "name": "stdout",
     "output_type": "stream",
     "text": [
      "<class 'float'>\n"
     ]
    }
   ],
   "source": [
    "i=20.0\n",
    "print(type(i))"
   ]
  },
  {
   "cell_type": "code",
   "execution_count": 22,
   "id": "86c8e0fb",
   "metadata": {},
   "outputs": [
    {
     "name": "stdout",
     "output_type": "stream",
     "text": [
      "-10.0\n",
      "<class 'float'>\n"
     ]
    }
   ],
   "source": [
    "#operaters \n",
    "\n",
    "a=10.0#flote value flote have more power than interger\n",
    "b=20# intiger\n",
    "sub=a-b\n",
    "print(sub)\n",
    "print(type(sub))"
   ]
  },
  {
   "cell_type": "code",
   "execution_count": 25,
   "id": "20b6d0e8",
   "metadata": {},
   "outputs": [
    {
     "name": "stdout",
     "output_type": "stream",
     "text": [
      "(1+1j)\n",
      "<class 'complex'>\n"
     ]
    }
   ],
   "source": [
    "a=10.0# complex has more powe than intiger & flote\n",
    "b=1+1j\n",
    "s=a=b\n",
    "print(s)\n",
    "print(type(s))\n",
    "\n"
   ]
  },
  {
   "cell_type": "code",
   "execution_count": 28,
   "id": "d696c000",
   "metadata": {},
   "outputs": [
    {
     "name": "stdout",
     "output_type": "stream",
     "text": [
      "200.0\n",
      "<class 'float'>\n"
     ]
    }
   ],
   "source": [
    "#multiplication astrix*\n",
    "a=10.0\n",
    "b=20\n",
    "mat=a*b\n",
    "print(mat)\n",
    "print(type(mat))"
   ]
  },
  {
   "cell_type": "code",
   "execution_count": 29,
   "id": "e8bbffe2",
   "metadata": {},
   "outputs": [
    {
     "name": "stdout",
     "output_type": "stream",
     "text": [
      "(200+40j)\n",
      "<class 'complex'>\n"
     ]
    }
   ],
   "source": [
    "#multiplication astrix*\n",
    "a=10.0+2j\n",
    "b=20\n",
    "mat=a*b\n",
    "print(mat)\n",
    "print(type(mat))"
   ]
  },
  {
   "cell_type": "code",
   "execution_count": 30,
   "id": "c73495c0",
   "metadata": {},
   "outputs": [
    {
     "name": "stdout",
     "output_type": "stream",
     "text": [
      "0.5\n",
      "<class 'float'>\n"
     ]
    }
   ],
   "source": [
    "#division(/)\n",
    "a=10.0\n",
    "b=20\n",
    "div=a/b\n",
    "print(div)\n",
    "print(type(div))\n"
   ]
  },
  {
   "cell_type": "code",
   "execution_count": 32,
   "id": "43bd9060",
   "metadata": {},
   "outputs": [
    {
     "name": "stdout",
     "output_type": "stream",
     "text": [
      "7\n",
      "<class 'int'>\n"
     ]
    }
   ],
   "source": [
    "#division(/) u wont intergal value no 0.use // \n",
    "a=30\n",
    "b=4\n",
    "div=a//b\n",
    "print(div)\n",
    "print(type(div))\n"
   ]
  },
  {
   "cell_type": "code",
   "execution_count": 33,
   "id": "613c65f5",
   "metadata": {},
   "outputs": [
    {
     "name": "stdout",
     "output_type": "stream",
     "text": [
      "100\n"
     ]
    }
   ],
   "source": [
    "#** means power\n",
    "a=10\n",
    "print(a**2)"
   ]
  },
  {
   "cell_type": "code",
   "execution_count": 37,
   "id": "ebcbcf67",
   "metadata": {},
   "outputs": [
    {
     "name": "stdout",
     "output_type": "stream",
     "text": [
      "1.056467308549538\n"
     ]
    }
   ],
   "source": [
    "print(3**(.05))#0.0 extra use error "
   ]
  },
  {
   "cell_type": "code",
   "execution_count": 38,
   "id": "ec5ea631",
   "metadata": {},
   "outputs": [
    {
     "name": "stdout",
     "output_type": "stream",
     "text": [
      "2.0\n"
     ]
    }
   ],
   "source": [
    "print(8**(1/3))"
   ]
  },
  {
   "cell_type": "code",
   "execution_count": 39,
   "id": "2851c5d8",
   "metadata": {},
   "outputs": [
    {
     "name": "stdout",
     "output_type": "stream",
     "text": [
      "1.7320508075688772\n"
     ]
    }
   ],
   "source": [
    "print(3**(.5))"
   ]
  },
  {
   "cell_type": "code",
   "execution_count": 46,
   "id": "4e8b5715",
   "metadata": {},
   "outputs": [
    {
     "name": "stdout",
     "output_type": "stream",
     "text": [
      "hello rishabh how are you\n"
     ]
    }
   ],
   "source": [
    "#string can be define as \"\" concatitination \n",
    "str1='hello rishabh'\n",
    "str2=' how are you'\n",
    "z=str1+str2\n",
    "print(z)"
   ]
  },
  {
   "cell_type": "code",
   "execution_count": 47,
   "id": "8571363d",
   "metadata": {},
   "outputs": [
    {
     "name": "stdout",
     "output_type": "stream",
     "text": [
      "hello rishabhhello rishabhhello rishabh\n"
     ]
    }
   ],
   "source": [
    "str1='hello rishabh'\n",
    "str2=' how are you'\n",
    "z=str1*3\n",
    "print(z)"
   ]
  },
  {
   "cell_type": "code",
   "execution_count": 49,
   "id": "3adbad92",
   "metadata": {},
   "outputs": [
    {
     "name": "stdout",
     "output_type": "stream",
     "text": [
      "3\n"
     ]
    }
   ],
   "source": [
    "# percentage is use for reminders \n",
    "print(13%5)"
   ]
  },
  {
   "cell_type": "code",
   "execution_count": null,
   "id": "f0afb140",
   "metadata": {},
   "outputs": [],
   "source": [
    "#in build funcation \n",
    "int()\n",
    "abs()# create negaive to postive number \n",
    "float()\n",
    "print()\n",
    "len()\n",
    "\n"
   ]
  }
 ],
 "metadata": {
  "kernelspec": {
   "display_name": "Python 3 (ipykernel)",
   "language": "python",
   "name": "python3"
  },
  "language_info": {
   "codemirror_mode": {
    "name": "ipython",
    "version": 3
   },
   "file_extension": ".py",
   "mimetype": "text/x-python",
   "name": "python",
   "nbconvert_exporter": "python",
   "pygments_lexer": "ipython3",
   "version": "3.10.9"
  }
 },
 "nbformat": 4,
 "nbformat_minor": 5
}
