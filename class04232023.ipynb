{
 "cells": [
  {
   "cell_type": "code",
   "execution_count": 1,
   "id": "5e18c33c",
   "metadata": {},
   "outputs": [],
   "source": [
    "#scope of variable \n"
   ]
  },
  {
   "cell_type": "code",
   "execution_count": 8,
   "id": "5b55186a",
   "metadata": {},
   "outputs": [],
   "source": [
    "def sum_of_number(x,y):\n",
    "    s=x+y\n",
    "    return(s)"
   ]
  },
  {
   "cell_type": "code",
   "execution_count": 9,
   "id": "4463cdb6",
   "metadata": {},
   "outputs": [
    {
     "data": {
      "text/plain": [
       "20"
      ]
     },
     "execution_count": 9,
     "metadata": {},
     "output_type": "execute_result"
    }
   ],
   "source": [
    "sum_of_number(10,10)"
   ]
  },
  {
   "cell_type": "code",
   "execution_count": 4,
   "id": "8b39531f",
   "metadata": {},
   "outputs": [],
   "source": [
    "#globle variable \n",
    "l=[1,2,3,4,5]"
   ]
  },
  {
   "cell_type": "code",
   "execution_count": 15,
   "id": "35db2f4b",
   "metadata": {},
   "outputs": [],
   "source": [
    "def sum_list():\n",
    "    s=sum(l)\n",
    "    return(s)"
   ]
  },
  {
   "cell_type": "code",
   "execution_count": 17,
   "id": "426eaa9e",
   "metadata": {},
   "outputs": [],
   "source": [
    "x=sum_list"
   ]
  },
  {
   "cell_type": "code",
   "execution_count": 20,
   "id": "e1976c10",
   "metadata": {},
   "outputs": [],
   "source": [
    "#lambda funaction \n",
    "#lambda agrument : expression "
   ]
  },
  {
   "cell_type": "code",
   "execution_count": 22,
   "id": "ef372f01",
   "metadata": {},
   "outputs": [
    {
     "name": "stdout",
     "output_type": "stream",
     "text": [
      "10\n"
     ]
    }
   ],
   "source": [
    "duble=lambda x:x*2\n",
    "print(duble(5))"
   ]
  },
  {
   "cell_type": "code",
   "execution_count": 35,
   "id": "becddc78",
   "metadata": {},
   "outputs": [
    {
     "name": "stdout",
     "output_type": "stream",
     "text": [
      "102\n"
     ]
    }
   ],
   "source": [
    "duble=lambda x:x+2\n",
    "print(duble(100))"
   ]
  },
  {
   "cell_type": "code",
   "execution_count": 32,
   "id": "04e11b4d",
   "metadata": {},
   "outputs": [],
   "source": [
    "add=lambda x,y:x+y"
   ]
  },
  {
   "cell_type": "code",
   "execution_count": 33,
   "id": "465fbb39",
   "metadata": {},
   "outputs": [
    {
     "data": {
      "text/plain": [
       "15"
      ]
     },
     "execution_count": 33,
     "metadata": {},
     "output_type": "execute_result"
    }
   ],
   "source": [
    "add(5,10)"
   ]
  },
  {
   "cell_type": "code",
   "execution_count": 42,
   "id": "808fa77b",
   "metadata": {},
   "outputs": [],
   "source": [
    "def fun(n):\n",
    "    return lambda a:a**n # this is a loccal variable "
   ]
  },
  {
   "cell_type": "code",
   "execution_count": 39,
   "id": "8404c2a6",
   "metadata": {},
   "outputs": [],
   "source": [
    "sq=fun(2)\n",
    "ch=fun(3)"
   ]
  },
  {
   "cell_type": "code",
   "execution_count": 40,
   "id": "7bcdcaea",
   "metadata": {},
   "outputs": [
    {
     "data": {
      "text/plain": [
       "9"
      ]
     },
     "execution_count": 40,
     "metadata": {},
     "output_type": "execute_result"
    }
   ],
   "source": [
    "sq(3)"
   ]
  },
  {
   "cell_type": "code",
   "execution_count": 41,
   "id": "1d9fd9b3",
   "metadata": {},
   "outputs": [
    {
     "data": {
      "text/plain": [
       "27"
      ]
     },
     "execution_count": 41,
     "metadata": {},
     "output_type": "execute_result"
    }
   ],
   "source": [
    "ch(3)"
   ]
  },
  {
   "cell_type": "code",
   "execution_count": 43,
   "id": "4bc8e0c2",
   "metadata": {},
   "outputs": [],
   "source": [
    "# any : syntax - any(iterable item)"
   ]
  },
  {
   "cell_type": "code",
   "execution_count": 44,
   "id": "c016a94d",
   "metadata": {},
   "outputs": [],
   "source": [
    "l=(0,1,1,10,30,40)"
   ]
  },
  {
   "cell_type": "code",
   "execution_count": 45,
   "id": "c4daaa6b",
   "metadata": {},
   "outputs": [
    {
     "data": {
      "text/plain": [
       "True"
      ]
     },
     "execution_count": 45,
     "metadata": {},
     "output_type": "execute_result"
    }
   ],
   "source": [
    "any(l) # check that any data is prsent in the given value "
   ]
  },
  {
   "cell_type": "code",
   "execution_count": 48,
   "id": "0a1c008e",
   "metadata": {},
   "outputs": [],
   "source": [
    "l=(0,0,0,0)# false is 0 in any screpting "
   ]
  },
  {
   "cell_type": "code",
   "execution_count": 47,
   "id": "352f6f9d",
   "metadata": {},
   "outputs": [
    {
     "data": {
      "text/plain": [
       "False"
      ]
     },
     "execution_count": 47,
     "metadata": {},
     "output_type": "execute_result"
    }
   ],
   "source": [
    "any(l)"
   ]
  },
  {
   "cell_type": "code",
   "execution_count": 49,
   "id": "378ac371",
   "metadata": {},
   "outputs": [],
   "source": [
    "# all funaction - all (iterable items )"
   ]
  },
  {
   "cell_type": "code",
   "execution_count": 50,
   "id": "c40f3ee5",
   "metadata": {},
   "outputs": [],
   "source": [
    "l=[1,2,3,4]"
   ]
  },
  {
   "cell_type": "code",
   "execution_count": 51,
   "id": "ca472592",
   "metadata": {},
   "outputs": [
    {
     "data": {
      "text/plain": [
       "True"
      ]
     },
     "execution_count": 51,
     "metadata": {},
     "output_type": "execute_result"
    }
   ],
   "source": [
    "all(l)"
   ]
  },
  {
   "cell_type": "code",
   "execution_count": 52,
   "id": "0fc1266c",
   "metadata": {},
   "outputs": [],
   "source": [
    "# divmod():takes two number and return Quotiet an reminder "
   ]
  },
  {
   "cell_type": "code",
   "execution_count": 53,
   "id": "52264267",
   "metadata": {},
   "outputs": [
    {
     "data": {
      "text/plain": [
       "(4, 1)"
      ]
     },
     "execution_count": 53,
     "metadata": {},
     "output_type": "execute_result"
    }
   ],
   "source": [
    "divmod(9,2)"
   ]
  },
  {
   "cell_type": "code",
   "execution_count": 55,
   "id": "71dc01ae",
   "metadata": {},
   "outputs": [
    {
     "data": {
      "text/plain": [
       "(4, 1)"
      ]
     },
     "execution_count": 55,
     "metadata": {},
     "output_type": "execute_result"
    }
   ],
   "source": [
    "# smiller too \n",
    "9//2,9%2"
   ]
  },
  {
   "cell_type": "code",
   "execution_count": 56,
   "id": "1cb5f385",
   "metadata": {},
   "outputs": [],
   "source": [
    "#filter: filter funcation constructs and itertor form element of an iterable structure\n",
    "#which unaction retrun : true \n",
    "#syntax: filter (funaction,iterable)"
   ]
  },
  {
   "cell_type": "code",
   "execution_count": 57,
   "id": "896d1b1d",
   "metadata": {},
   "outputs": [],
   "source": [
    "def find_po(num):\n",
    "    if num>0:\n",
    "        return(num)"
   ]
  },
  {
   "cell_type": "code",
   "execution_count": 58,
   "id": "d431d8ea",
   "metadata": {},
   "outputs": [
    {
     "data": {
      "text/plain": [
       "20"
      ]
     },
     "execution_count": 58,
     "metadata": {},
     "output_type": "execute_result"
    }
   ],
   "source": [
    "find_po(20)"
   ]
  },
  {
   "cell_type": "code",
   "execution_count": 59,
   "id": "952da121",
   "metadata": {},
   "outputs": [],
   "source": [
    "new_list=range(-10,10)"
   ]
  },
  {
   "cell_type": "code",
   "execution_count": 61,
   "id": "8c9d85ad",
   "metadata": {},
   "outputs": [
    {
     "data": {
      "text/plain": [
       "[1, 2, 3, 4, 5, 6, 7, 8, 9]"
      ]
     },
     "execution_count": 61,
     "metadata": {},
     "output_type": "execute_result"
    }
   ],
   "source": [
    "list(filter(find_po,new_list))"
   ]
  },
  {
   "cell_type": "code",
   "execution_count": 62,
   "id": "4c5c5e3d",
   "metadata": {},
   "outputs": [],
   "source": [
    "def find_po(num):\n",
    "    if num<0:\n",
    "        return(num)"
   ]
  },
  {
   "cell_type": "code",
   "execution_count": 63,
   "id": "62fedb9f",
   "metadata": {},
   "outputs": [],
   "source": [
    "new_list1=range(-10,10)"
   ]
  },
  {
   "cell_type": "code",
   "execution_count": 64,
   "id": "537fe4fc",
   "metadata": {},
   "outputs": [
    {
     "data": {
      "text/plain": [
       "[-10, -9, -8, -7, -6, -5, -4, -3, -2, -1]"
      ]
     },
     "execution_count": 64,
     "metadata": {},
     "output_type": "execute_result"
    }
   ],
   "source": [
    "list(filter(find_po,new_list1))"
   ]
  },
  {
   "cell_type": "code",
   "execution_count": 67,
   "id": "d5e2d478",
   "metadata": {},
   "outputs": [
    {
     "data": {
      "text/plain": [
       "[-10, -9, -8, -7, -6, -5, -4, -3, -2, -1]"
      ]
     },
     "execution_count": 67,
     "metadata": {},
     "output_type": "execute_result"
    }
   ],
   "source": [
    "list(filter(lambda x:x<0,new_list1))# lambda remove the define funavtion and narow down the coding "
   ]
  },
  {
   "cell_type": "code",
   "execution_count": 72,
   "id": "564c10ce",
   "metadata": {},
   "outputs": [],
   "source": [
    "# Map funcation : it applies funaction to all the items of an ierable \n",
    "#syntax: map(funcation name ,iterable)"
   ]
  },
  {
   "cell_type": "code",
   "execution_count": 71,
   "id": "4d015dde",
   "metadata": {},
   "outputs": [],
   "source": [
    "name=['arav','anu','akash','banana']"
   ]
  },
  {
   "cell_type": "code",
   "execution_count": 79,
   "id": "14195536",
   "metadata": {},
   "outputs": [
    {
     "ename": "SyntaxError",
     "evalue": "expected ':' (1321148859.py, line 2)",
     "output_type": "error",
     "traceback": [
      "\u001b[1;36m  Cell \u001b[1;32mIn[79], line 2\u001b[1;36m\u001b[0m\n\u001b[1;33m    if name[0].upper()==\"A\"\u001b[0m\n\u001b[1;37m                           ^\u001b[0m\n\u001b[1;31mSyntaxError\u001b[0m\u001b[1;31m:\u001b[0m expected ':'\n"
     ]
    }
   ],
   "source": [
    "def give_name (name):\n",
    "    if name[0].upper()==\"A\"\n",
    "        return(name.upper())"
   ]
  },
  {
   "cell_type": "code",
   "execution_count": null,
   "id": "9cf608a7",
   "metadata": {},
   "outputs": [],
   "source": [
    "#"
   ]
  }
 ],
 "metadata": {
  "kernelspec": {
   "display_name": "Python 3 (ipykernel)",
   "language": "python",
   "name": "python3"
  },
  "language_info": {
   "codemirror_mode": {
    "name": "ipython",
    "version": 3
   },
   "file_extension": ".py",
   "mimetype": "text/x-python",
   "name": "python",
   "nbconvert_exporter": "python",
   "pygments_lexer": "ipython3",
   "version": "3.10.9"
  }
 },
 "nbformat": 4,
 "nbformat_minor": 5
}
