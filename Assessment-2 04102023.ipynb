{
 "cells": [
  {
   "cell_type": "code",
   "execution_count": 12,
   "id": "4fb7ecbd",
   "metadata": {},
   "outputs": [
    {
     "name": "stdout",
     "output_type": "stream",
     "text": [
      "['HELLO', ' WORLD', ' HOW', ' ARE', ' YOU']\n"
     ]
    }
   ],
   "source": [
    "#Apply split function on the following string = \"HELLO, WORLD, HOW, ARE, YOU\".Example to apply split function:\n",
    "txt=\"HELLO, WORLD, HOW, ARE, YOU\"\n",
    "n=txt.split(\",\")\n",
    "print(n)"
   ]
  },
  {
   "cell_type": "code",
   "execution_count": 14,
   "id": "28de4cd5",
   "metadata": {},
   "outputs": [
    {
     "name": "stdout",
     "output_type": "stream",
     "text": [
      "hello there\n"
     ]
    }
   ],
   "source": [
    "#Apply replace function on the string \"HELLO WORLD\" and replace \"WORLD\" with \"THERE!\" using built in function replace. \n",
    "#PLEASE SEARCH ON GOOGLE ABOUT REPLACE and SPLIT FUNCTION\n",
    "txt=\"hello world\"\n",
    "name=txt.replace(\"world\",\"there\")\n",
    "print(name)"
   ]
  },
  {
   "cell_type": "code",
   "execution_count": null,
   "id": "2e09dd69",
   "metadata": {},
   "outputs": [],
   "source": [
    "#Given a string \"[1,2,3,4,5,6,7,8,9,10]\", generate list of items out of this i.e., ['1','2','3','4'..\n",
    "l=[1,2,3,4,5,6,7,8,9,10]\n",
    "print(l)\n"
   ]
  },
  {
   "cell_type": "code",
   "execution_count": null,
   "id": "fc521887",
   "metadata": {},
   "outputs": [],
   "source": [
    "#Given a list of numbers. Find the average/Mean value.\n",
    "a='12'\n",
    "b='15'\n",
    "c='30'\n",
    "sum=a+b+c\n",
    "print(sum)"
   ]
  },
  {
   "cell_type": "code",
   "execution_count": null,
   "id": "1e758740",
   "metadata": {},
   "outputs": [],
   "source": [
    "#Using indexing on the list [[\"Kolkata\",[2,3,4,5]],[\"Delhi\",[10,12,14,18]]]\n",
    "list=[[\"Kolkata\",[2,3,4,5]],[\"Delhi\",[10,12,14,18]]]\n",
    "list[6]"
   ]
  },
  {
   "cell_type": "code",
   "execution_count": null,
   "id": "d81acca4",
   "metadata": {},
   "outputs": [],
   "source": [
    "#Given a list of length 3 find the variance of the list\n"
   ]
  },
  {
   "cell_type": "code",
   "execution_count": null,
   "id": "1b120c7a",
   "metadata": {},
   "outputs": [],
   "source": [
    "#Given ['Challenge', 'accepted,', 'ready','for','the learning','curve'] list. Convert this to a statement using join function. Output should be \"Challenge accepted, ready for the learning curve\"."
   ]
  },
  {
   "cell_type": "code",
   "execution_count": null,
   "id": "e23e6ac0",
   "metadata": {},
   "outputs": [],
   "source": [
    "#Given a string \"HAPPY LEARNING ALL\" please find the first and last index of \"LEARNING\" using inde and length function"
   ]
  },
  {
   "cell_type": "code",
   "execution_count": null,
   "id": "0fda8600",
   "metadata": {},
   "outputs": [],
   "source": []
  },
  {
   "cell_type": "code",
   "execution_count": null,
   "id": "96b05455",
   "metadata": {},
   "outputs": [],
   "source": []
  }
 ],
 "metadata": {
  "kernelspec": {
   "display_name": "Python 3 (ipykernel)",
   "language": "python",
   "name": "python3"
  },
  "language_info": {
   "codemirror_mode": {
    "name": "ipython",
    "version": 3
   },
   "file_extension": ".py",
   "mimetype": "text/x-python",
   "name": "python",
   "nbconvert_exporter": "python",
   "pygments_lexer": "ipython3",
   "version": "3.10.9"
  }
 },
 "nbformat": 4,
 "nbformat_minor": 5
}
